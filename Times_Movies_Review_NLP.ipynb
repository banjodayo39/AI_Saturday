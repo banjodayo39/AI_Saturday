{
 "cells": [
  {
   "cell_type": "markdown",
   "metadata": {},
   "source": [
    "# Import Libraries"
   ]
  },
  {
   "cell_type": "code",
   "execution_count": 1,
   "metadata": {},
   "outputs": [],
   "source": [
    "#import a library beautiful soup used for web scrapping \n",
    "import bs4 as bs\n",
    "import urllib.request as url"
   ]
  },
  {
   "cell_type": "code",
   "execution_count": null,
   "metadata": {},
   "outputs": [],
   "source": [
    "#import a library beautiful soupu used for web scrapping \n",
    "import bs4 as bs\n",
    "import urllib.request as url"
   ]
  },
  {
   "cell_type": "code",
   "execution_count": 217,
   "metadata": {},
   "outputs": [],
   "source": [
    "import csv\n",
    "\n",
    "#write a new csv filenamed home\n",
    "csvfile = open('home.csv','w', newline='')\n",
    "obj = csv.writer(csvfile)\n",
    "\n",
    "#Create a Series in a list \n",
    "persons=[('Movie_Title/Synopsis', 'Critic_rating', 'Story', 'Reviews')]\n",
    "obj.writerows(persons)\n"
   ]
  },
  {
   "cell_type": "code",
   "execution_count": 218,
   "metadata": {},
   "outputs": [],
   "source": [
    "\n",
    "source = url.urlopen('https://timesofindia.indiatimes.com/entertainment/hindi/movie-reviews/the-sky-is-pink/movie-review/71509561.cms')\n",
    "page_soup = bs.BeautifulSoup(source, 'html.parser')"
   ]
  },
  {
   "cell_type": "code",
   "execution_count": 219,
   "metadata": {},
   "outputs": [
    {
     "data": {
      "text/plain": [
       "[<h1 class=\"moviereviewheadline\">The Sky Is Pink Movie Review : An emotional, stirring watch</h1>]"
      ]
     },
     "execution_count": 219,
     "metadata": {},
     "output_type": "execute_result"
    }
   ],
   "source": [
    "title_h1 = page_soup.find_all(\"h1\", {\"class\": \"moviereviewheadline\"}) \n",
    "title_h1"
   ]
  },
  {
   "cell_type": "code",
   "execution_count": 223,
   "metadata": {},
   "outputs": [],
   "source": [
    "\n",
    "#Remove all words that contain numbers,punctuation,make all text lowercase,Tokenize the reviews into words\n",
    "from nltk.tokenize import sent_tokenize\n",
    "from nltk.util import ngrams\n",
    "from nltk.tokenize import word_tokenize\n",
    "\n",
    "import re\n",
    "\n",
    "#Remove all words that contain numbers,punctuation,tag,make all text lowercase\n",
    "def preprocess(text):\n",
    "    clean_data = []\n",
    "    \n",
    "    for x in text: #this is Df_pd for Df_np (text[:])\n",
    "        for i in x: \n",
    "            new_text = re.sub(r'\\d+','',i)# remove numbers\n",
    "            new_text = re.sub('<.*?>', '', new_text)   # remove HTML tags\n",
    "            new_text = re.sub(r'[^\\w\\s]', '', new_text) # remove punc.\n",
    "            new_text = new_text.lower() # lower case, .upper() for upper\n",
    "           \n",
    "            if new_text != '':\n",
    "               clean_data.append(new_text)\n",
    "    return clean_data\n",
    "\n",
    "preprocess_title=preprocess(major)\n",
    "\n",
    "#removing all strings after reviews to get only title\n",
    "def preprocess_2(title):\n",
    "    title= str(preprocess_title[0])\n",
    "    i=title.index(\"review\")\n",
    "    return title[0:i]\n",
    "    \n",
    "    "
   ]
  },
  {
   "cell_type": "code",
   "execution_count": 224,
   "metadata": {},
   "outputs": [
    {
     "name": "stdout",
     "output_type": "stream",
     "text": [
      "the sky is pink movie \n"
     ]
    }
   ],
   "source": [
    "title_1=preprocess_2(preprocess_title)\n",
    "print(title_1)"
   ]
  },
  {
   "cell_type": "code",
   "execution_count": 226,
   "metadata": {},
   "outputs": [
    {
     "data": {
      "text/plain": [
       "[<span class=\"rate_count\">2.0</span>,\n",
       " <span class=\"rate_count\">3.5</span>,\n",
       " <span class=\"rate_count\">3.0</span>,\n",
       " <span class=\"rate_count\">3.0</span>,\n",
       " <span class=\"rate_count\">4.5</span>,\n",
       " <span class=\"rate_count\">3.0</span>,\n",
       " <span class=\"rate_count\">3.5</span>,\n",
       " <span class=\"rate_count\">3.0</span>,\n",
       " <span class=\"rate_count\">3.0</span>,\n",
       " <span class=\"rate_count\">3.0</span>,\n",
       " <span class=\"rate_count\">3.0</span>,\n",
       " <span class=\"rate_count\">4.5</span>,\n",
       " <span class=\"rate_count\">3.0</span>,\n",
       " <span class=\"rate_count\">4.0</span>,\n",
       " <span class=\"rate_count\">3.5</span>,\n",
       " <span class=\"rate_count\">3.0</span>,\n",
       " <span class=\"rate_count\">3.5</span>,\n",
       " <span class=\"rate_count\">3.5</span>,\n",
       " <span class=\"rate_count\">3.5</span>,\n",
       " <span class=\"rate_count\">2.5</span>,\n",
       " <span class=\"rate_count\">2.0</span>,\n",
       " <span class=\"rate_count\">3.5</span>,\n",
       " <span class=\"rate_count\">1.0</span>,\n",
       " <span class=\"rate_count\">2.0</span>,\n",
       " <span class=\"rate_count\">3.0</span>,\n",
       " <span class=\"rate_count\">2.0</span>,\n",
       " <span class=\"rate_count\">2.5</span>,\n",
       " <span class=\"rate_count\">3.0</span>,\n",
       " <span class=\"rate_count\">3.5</span>,\n",
       " <span class=\"rate_count\">1.0</span>,\n",
       " <span class=\"rate_count\">2.0</span>,\n",
       " <span class=\"rate_count\">3.5</span>,\n",
       " <span class=\"rate_count\">3.5</span>,\n",
       " <span class=\"rate_count\">2.0</span>,\n",
       " <span class=\"rate_count\">2.0</span>,\n",
       " <span class=\"rate_count\">3.0</span>,\n",
       " <span class=\"rate_count\">3.5</span>,\n",
       " <span class=\"rate_count\">2.5</span>,\n",
       " <span class=\"rate_count\">1.0</span>,\n",
       " <span class=\"rate_count\">2.5</span>,\n",
       " <span class=\"rate_count\">3.5</span>,\n",
       " <span class=\"rate_count\">3.5</span>,\n",
       " <span class=\"rate_count\">4.0</span>,\n",
       " <span class=\"rate_count\">3.5</span>,\n",
       " <span class=\"rate_count\">1.5</span>,\n",
       " <span class=\"rate_count\">3.5</span>,\n",
       " <span class=\"rate_count\">3.5</span>,\n",
       " <span class=\"rate_count\">2.5</span>,\n",
       " <span class=\"rate_count\">3.5</span>,\n",
       " <span class=\"rate_count\">3.0</span>,\n",
       " <span class=\"rate_count\">3.5</span>,\n",
       " <span class=\"rate_count\">2.0</span>,\n",
       " <span class=\"rate_count\">2.5</span>,\n",
       " <span class=\"rate_count\">3.5</span>,\n",
       " <span class=\"rate_count\">2.0</span>,\n",
       " <span class=\"rate_count\">3.5</span>,\n",
       " <span class=\"rate_count\">2.0</span>,\n",
       " <span class=\"rate_count\">2.0</span>,\n",
       " <span class=\"rate_count\">2.0</span>,\n",
       " <span class=\"rate_count\">2.5</span>,\n",
       " <span class=\"rate_count\">3.0</span>,\n",
       " <span class=\"rate_count\">3.0</span>,\n",
       " <span class=\"rate_count\">3.5</span>,\n",
       " <span class=\"rate_count\">4.0</span>,\n",
       " <span class=\"rate_count\">1.0</span>,\n",
       " <span class=\"rate_count\">3.0</span>,\n",
       " <span class=\"rate_count\">2.5</span>,\n",
       " <span class=\"rate_count\">1.5</span>,\n",
       " <span class=\"rate_count\">2.5</span>,\n",
       " <span class=\"rate_count\">4.0</span>,\n",
       " <span class=\"rate_count\">4.0</span>,\n",
       " <span class=\"rate_count\">3.0</span>,\n",
       " <span class=\"rate_count\">3.5</span>,\n",
       " <span class=\"rate_count\">2.5</span>,\n",
       " <span class=\"rate_count\">3.0</span>,\n",
       " <span class=\"rate_count\">2.5</span>,\n",
       " <span class=\"rate_count\">3.5</span>,\n",
       " <span class=\"rate_count\">3.0</span>,\n",
       " <span class=\"rate_count\">4.0</span>,\n",
       " <span class=\"rate_count\">1.0</span>,\n",
       " <span class=\"rate_count\">3.0</span>,\n",
       " <span class=\"rate_count\">2.5</span>,\n",
       " <span class=\"rate_count\">1.5</span>,\n",
       " <span class=\"rate_count\">2.5</span>,\n",
       " <span class=\"rate_count\">3.0</span>,\n",
       " <span class=\"rate_count\">2.0</span>,\n",
       " <span class=\"rate_count\">3.0</span>,\n",
       " <span class=\"rate_count\">1.0</span>,\n",
       " <span class=\"rate_count\">3.5</span>,\n",
       " <span class=\"rate_count\">2.0</span>,\n",
       " <span class=\"rate_count\">2.5</span>,\n",
       " <span class=\"rate_count\">2.0</span>,\n",
       " <span class=\"rate_count\">3.0</span>,\n",
       " <span class=\"rate_count\">2.0</span>,\n",
       " <span class=\"rate_count\">3.0</span>,\n",
       " <span class=\"rate_count\">2.0</span>,\n",
       " <span class=\"rate_count\">3.5</span>,\n",
       " <span class=\"rate_count\">3.0</span>,\n",
       " <span class=\"rate_count\">3.0</span>,\n",
       " <span class=\"rate_count\">2.0</span>,\n",
       " <span class=\"rate_count\">2.0</span>,\n",
       " <span class=\"rate_count\">3.5</span>,\n",
       " <span class=\"rate_count\">4.0</span>,\n",
       " <span class=\"rate_count\">3.0</span>,\n",
       " <span class=\"rate_count\">3.5</span>,\n",
       " <span class=\"rate_count\">3.0</span>,\n",
       " <span class=\"rate_count\"><span class=\"dynatext\">0</span><small>/5</small></span>,\n",
       " <span class=\"rate_count\">0<small>/5</small></span>,\n",
       " <span class=\"rate_count\"><span class=\"cricrating\">3.5</span><small>/5</small></span>,\n",
       " <span class=\"rate_count\">3.5</span>]"
      ]
     },
     "execution_count": 226,
     "metadata": {},
     "output_type": "execute_result"
    }
   ],
   "source": [
    "critic_h1 = page_soup.find_all(\"span\", {\"class\": \"rate_count\"}) \n",
    "critic_h1"
   ]
  },
  {
   "cell_type": "code",
   "execution_count": 227,
   "metadata": {},
   "outputs": [
    {
     "data": {
      "text/plain": [
       "[<span class=\"rate_count\">2.0</span>,\n",
       " <span class=\"rate_count\">3.5</span>,\n",
       " <span class=\"rate_count\">3.0</span>,\n",
       " <span class=\"rate_count\">3.0</span>,\n",
       " <span class=\"rate_count\">4.5</span>,\n",
       " <span class=\"rate_count\">3.0</span>,\n",
       " <span class=\"rate_count\">3.5</span>,\n",
       " <span class=\"rate_count\">3.0</span>,\n",
       " <span class=\"rate_count\">3.0</span>,\n",
       " <span class=\"rate_count\">3.0</span>,\n",
       " <span class=\"rate_count\">3.0</span>,\n",
       " <span class=\"rate_count\">4.5</span>,\n",
       " <span class=\"rate_count\">3.0</span>,\n",
       " <span class=\"rate_count\">4.0</span>,\n",
       " <span class=\"rate_count\">3.5</span>,\n",
       " <span class=\"rate_count\">3.0</span>,\n",
       " <span class=\"rate_count\">3.5</span>,\n",
       " <span class=\"rate_count\">3.5</span>,\n",
       " <span class=\"rate_count\">3.5</span>,\n",
       " <span class=\"rate_count\">2.5</span>,\n",
       " <span class=\"rate_count\">2.0</span>,\n",
       " <span class=\"rate_count\">3.5</span>,\n",
       " <span class=\"rate_count\">1.0</span>,\n",
       " <span class=\"rate_count\">2.0</span>,\n",
       " <span class=\"rate_count\">3.0</span>,\n",
       " <span class=\"rate_count\">2.0</span>,\n",
       " <span class=\"rate_count\">2.5</span>,\n",
       " <span class=\"rate_count\">3.0</span>,\n",
       " <span class=\"rate_count\">3.5</span>,\n",
       " <span class=\"rate_count\">1.0</span>,\n",
       " <span class=\"rate_count\">2.0</span>,\n",
       " <span class=\"rate_count\">3.5</span>,\n",
       " <span class=\"rate_count\">3.5</span>,\n",
       " <span class=\"rate_count\">2.0</span>,\n",
       " <span class=\"rate_count\">2.0</span>,\n",
       " <span class=\"rate_count\">3.0</span>,\n",
       " <span class=\"rate_count\">3.5</span>,\n",
       " <span class=\"rate_count\">2.5</span>,\n",
       " <span class=\"rate_count\">1.0</span>,\n",
       " <span class=\"rate_count\">2.5</span>,\n",
       " <span class=\"rate_count\">3.5</span>,\n",
       " <span class=\"rate_count\">3.5</span>,\n",
       " <span class=\"rate_count\">4.0</span>,\n",
       " <span class=\"rate_count\">3.5</span>,\n",
       " <span class=\"rate_count\">1.5</span>,\n",
       " <span class=\"rate_count\">3.5</span>,\n",
       " <span class=\"rate_count\">3.5</span>,\n",
       " <span class=\"rate_count\">2.5</span>,\n",
       " <span class=\"rate_count\">3.5</span>,\n",
       " <span class=\"rate_count\">3.0</span>,\n",
       " <span class=\"rate_count\">3.5</span>,\n",
       " <span class=\"rate_count\">2.0</span>,\n",
       " <span class=\"rate_count\">2.5</span>,\n",
       " <span class=\"rate_count\">3.5</span>,\n",
       " <span class=\"rate_count\">2.0</span>,\n",
       " <span class=\"rate_count\">3.5</span>,\n",
       " <span class=\"rate_count\">2.0</span>,\n",
       " <span class=\"rate_count\">2.0</span>,\n",
       " <span class=\"rate_count\">2.0</span>,\n",
       " <span class=\"rate_count\">2.5</span>,\n",
       " <span class=\"rate_count\">3.0</span>,\n",
       " <span class=\"rate_count\">3.0</span>,\n",
       " <span class=\"rate_count\">3.5</span>,\n",
       " <span class=\"rate_count\">4.0</span>,\n",
       " <span class=\"rate_count\">1.0</span>,\n",
       " <span class=\"rate_count\">3.0</span>,\n",
       " <span class=\"rate_count\">2.5</span>,\n",
       " <span class=\"rate_count\">1.5</span>,\n",
       " <span class=\"rate_count\">2.5</span>,\n",
       " <span class=\"rate_count\">4.0</span>,\n",
       " <span class=\"rate_count\">4.0</span>,\n",
       " <span class=\"rate_count\">3.0</span>,\n",
       " <span class=\"rate_count\">3.5</span>,\n",
       " <span class=\"rate_count\">2.5</span>,\n",
       " <span class=\"rate_count\">3.0</span>,\n",
       " <span class=\"rate_count\">2.5</span>,\n",
       " <span class=\"rate_count\">3.5</span>,\n",
       " <span class=\"rate_count\">3.0</span>,\n",
       " <span class=\"rate_count\">4.0</span>,\n",
       " <span class=\"rate_count\">1.0</span>,\n",
       " <span class=\"rate_count\">3.0</span>,\n",
       " <span class=\"rate_count\">2.5</span>,\n",
       " <span class=\"rate_count\">1.5</span>,\n",
       " <span class=\"rate_count\">2.5</span>,\n",
       " <span class=\"rate_count\">3.0</span>,\n",
       " <span class=\"rate_count\">2.0</span>,\n",
       " <span class=\"rate_count\">3.0</span>,\n",
       " <span class=\"rate_count\">1.0</span>,\n",
       " <span class=\"rate_count\">3.5</span>,\n",
       " <span class=\"rate_count\">2.0</span>,\n",
       " <span class=\"rate_count\">2.5</span>,\n",
       " <span class=\"rate_count\">2.0</span>,\n",
       " <span class=\"rate_count\">3.0</span>,\n",
       " <span class=\"rate_count\">2.0</span>,\n",
       " <span class=\"rate_count\">3.0</span>,\n",
       " <span class=\"rate_count\">2.0</span>,\n",
       " <span class=\"rate_count\">3.5</span>,\n",
       " <span class=\"rate_count\">3.0</span>,\n",
       " <span class=\"rate_count\">3.0</span>,\n",
       " <span class=\"rate_count\">2.0</span>,\n",
       " <span class=\"rate_count\">2.0</span>,\n",
       " <span class=\"rate_count\">3.5</span>,\n",
       " <span class=\"rate_count\">4.0</span>,\n",
       " <span class=\"rate_count\">3.0</span>,\n",
       " <span class=\"rate_count\">3.5</span>,\n",
       " <span class=\"rate_count\">3.0</span>,\n",
       " <span class=\"rate_count\"><span class=\"dynatext\">0</span><small>/5</small></span>,\n",
       " <span class=\"rate_count\">0<small>/5</small></span>,\n",
       " <span class=\"rate_count\"><span class=\"cricrating\">3.5</span><small>/5</small></span>,\n",
       " <span class=\"rate_count\">3.5</span>]"
      ]
     },
     "execution_count": 227,
     "metadata": {},
     "output_type": "execute_result"
    }
   ],
   "source": [
    "\n",
    "critic_h1 = page_soup.find_all(\"span\", {\"class\": \"rate_count\"}) \n",
    "y=critic_h1\n",
    "y"
   ]
  },
  {
   "cell_type": "code",
   "execution_count": 228,
   "metadata": {},
   "outputs": [
    {
     "name": "stdout",
     "output_type": "stream",
     "text": [
      "['2.0', '3.5', '3.0', '3.0', '4.5', '3.0', '3.5', '3.0', '3.0', '3.0', '3.0', '4.5', '3.0', '4.0', '3.5', '3.0', '3.5', '3.5', '3.5', '2.5', '2.0', '3.5', '1.0', '2.0', '3.0', '2.0', '2.5', '3.0', '3.5', '1.0', '2.0', '3.5', '3.5', '2.0', '2.0', '3.0', '3.5', '2.5', '1.0', '2.5', '3.5', '3.5', '4.0', '3.5', '1.5', '3.5', '3.5', '2.5', '3.5', '3.0', '3.5', '2.0', '2.5', '3.5', '2.0', '3.5', '2.0', '2.0', '2.0', '2.5', '3.0', '3.0', '3.5', '4.0', '1.0', '3.0', '2.5', '1.5', '2.5', '4.0', '4.0', '3.0', '3.5', '2.5', '3.0', '2.5', '3.5', '3.0', '4.0', '1.0', '3.0', '2.5', '1.5', '2.5', '3.0', '2.0', '3.0', '1.0', '3.5', '2.0', '2.5', '2.0', '3.0', '2.0', '3.0', '2.0', '3.5', '3.0', '3.0', '2.0', '2.0', '3.5', '4.0', '3.0', '3.5', '3.0', '0', '0', '3.5', '3.5']\n"
     ]
    }
   ],
   "source": [
    "critic_count_1=[]\n",
    "for i in range(len(y)):\n",
    "    a=str(y[i])\n",
    "    #a= re.sub('<.*?>', '', a)   # remove HTML tags\n",
    "    #s= re.findall(r'^\\d+',y[i])\n",
    "    s= re.findall(r\"[-+]?\\d*\\.\\d+|\\d+\",a)\n",
    "    s=s[0]\n",
    "    critic_count_1.append(s)\n",
    "    \n",
    "print(critic_count_1) "
   ]
  },
  {
   "cell_type": "code",
   "execution_count": 229,
   "metadata": {},
   "outputs": [
    {
     "data": {
      "text/plain": [
       "[<div class=\"section1\"><div class=\"Normal\"><strong>STORY:</strong> Soon after she is born, Aisha is diagnosed with SCID, a rare genetic disorder that is life threatening. Her parents, Aditi and Niren make it their life’s mission to do whatever it takes to make her survive for as long as possible.<br/><br/><br/><strong>REVIEW: </strong>Based on a true story, ‘The Sky is Pink’ touches an emotional chord from the word go. As Aisha’s (Zaira Wasim) lively voiceover takes over from the start of the film, we are drawn into Aditi (Priyanka Chopra) and Niren’s (Farhan Akhtar) life instantly. A life that turns upside down almost right after Aisha’s birth. It is heart-wrenching to watch Aditi and Niren stay determined, hopeful and keep their spirits intact as they go through a grueling time as a middle-class couple trying to raise funds for their child’s treatment in London. <br/><br/>Aditi at one point lives alone in London for months, for Aisha’s treatment while Niren goes back to Delhi to work and be with their other child, Ishaan. The one phone call, where Ishaan tells his mom who is away, that he was scolded in class for coloring the sky pink and Aditi assuring him that the sky can be any color he wants it to, will move you to tears. And there are many such tender moments in the film that linger on. <br/><br/>However ‘The Sky is Pink’ not your typical tear jerking ride. The narrative and dialogues in film do a good balancing act of keeping some tough emotional scenes light-hearted, with a quirky touch. Aditi and Niren’s love story add some genuine fun moments and so does their overall chemistry as a couple, which is ultimately the soul of the film. And the sensitively dealt with moments add their heft to the emotional ride that the family goes through together. But as different aspects of Aisha, Aditi and Niren’s lives find their way into the narrative, the pace slackens, making it a lengthy watch. In fact, one wishes the screenplay was more focused and some portions given more breathing time and delved into deeper. <br/><br/>However, the emotional arc and the stellar performances will keep you invested. Priyanka Chopra is remarkable as Aditi, a mom determined to the point of being obsessed with making her child live life to the fullest. Her grief and pain is palpable in every scene as her character graph spans across two decades. Farhan Akhtar as Niren, also pulls off a commendable performance as the supportive husband and the father whose emotions are not always on display, but is chipping away nonetheless. There is an amazing restraint in his act. Zaira Wasim breathes life into every moment she is on screen, with her vibrant energy adding the much needed poignant touch to her character. <br/><br/>‘The Sky is Pink’ is definitely a stirring watch as your heart goes out to the Chaudhary family and their zest for making every moment count, despite the trying times they go through. This one scores high on the emotional quotient. <br/><br/><br/></div></div>]"
      ]
     },
     "execution_count": 229,
     "metadata": {},
     "output_type": "execute_result"
    }
   ],
   "source": [
    "\n",
    "story_review = page_soup.find_all(\"div\", {\"class\": \"section1\"}) \n",
    "story_review\n"
   ]
  },
  {
   "cell_type": "code",
   "execution_count": 230,
   "metadata": {},
   "outputs": [],
   "source": [
    "story_review=str(story_review)\n",
    "\n"
   ]
  },
  {
   "cell_type": "code",
   "execution_count": 243,
   "metadata": {},
   "outputs": [
    {
     "data": {
      "text/plain": [
       "'soon after she is born, aisha is diagnosed with scid, a rare genetic disorder that is life threatening. her parents, aditi and niren make it their life’s mission to do whatever it takes to make her survive for as long as possible'"
      ]
     },
     "execution_count": 243,
     "metadata": {},
     "output_type": "execute_result"
    }
   ],
   "source": [
    "start_index=story_review.index(\"Soon\")\n",
    "story_review_num=story_review.index(\".<br/><br/><br/><strong>REVIEW\")\n",
    "story_1=story_review[start_index:story_review_num]\n",
    "story_1=story_1.lower()\n",
    "story_1"
   ]
  },
  {
   "cell_type": "code",
   "execution_count": 210,
   "metadata": {},
   "outputs": [],
   "source": [
    "review_start_index=story_review.index(\"Based\")\n",
    "review_end_review=story_review.index(\" <br/><br/><br/></div></div>\")\n",
    "review_1=story_review[review_start_index:review_end_review]\n"
   ]
  },
  {
   "cell_type": "code",
   "execution_count": 207,
   "metadata": {},
   "outputs": [
    {
     "data": {
      "text/plain": [
       "'Based on a true story, ‘The Sky is Pink’ touches an emotional chord from the word go. As Aisha’s (Zaira Wasim) lively voiceover takes over from the start of the film, we are drawn into Aditi (Priyanka Chopra) and Niren’s (Farhan Akhtar) life instantly. A life that turns upside down almost right after Aisha’s birth. It is heart-wrenching to watch Aditi and Niren stay determined, hopeful and keep their spirits intact as they go through a grueling time as a middle-class couple trying to raise funds for their child’s treatment in London. <br/><br/>Aditi at one point lives alone in London for months, for Aisha’s treatment while Niren goes back to Delhi to work and be with their other child, Ishaan. The one phone call, where Ishaan tells his mom who is away, that he was scolded in class for coloring the sky pink and Aditi assuring him that the sky can be any color he wants it to, will move you to tears. And there are many such tender moments in the film that linger on. <br/><br/>However ‘The Sky is Pink’ not your typical tear jerking ride. The narrative and dialogues in film do a good balancing act of keeping some tough emotional scenes light-hearted, with a quirky touch. Aditi and Niren’s love story add some genuine fun moments and so does their overall chemistry as a couple, which is ultimately the soul of the film. And the sensitively dealt with moments add their heft to the emotional ride that the family goes through together. But as different aspects of Aisha, Aditi and Niren’s lives find their way into the narrative, the pace slackens, making it a lengthy watch. In fact, one wishes the screenplay was more focused and some portions given more breathing time and delved into deeper. <br/><br/>However, the emotional arc and the stellar performances will keep you invested. Priyanka Chopra is remarkable as Aditi, a mom determined to the point of being obsessed with making her child live life to the fullest. Her grief and pain is palpable in every scene as her character graph spans across two decades. Farhan Akhtar as Niren, also pulls off a commendable performance as the supportive husband and the father whose emotions are not always on display, but is chipping away nonetheless. There is an amazing restraint in his act. Zaira Wasim breathes life into every moment she is on screen, with her vibrant energy adding the much needed poignant touch to her character. <br/><br/>‘The Sky is Pink’ is definitely a stirring watch as your heart goes out to the Chaudhary family and their zest for making every moment count, despite the trying times they go through. This one scores high on the emotional quotient.'"
      ]
     },
     "execution_count": 207,
     "metadata": {},
     "output_type": "execute_result"
    }
   ],
   "source": [
    "review_1"
   ]
  },
  {
   "cell_type": "code",
   "execution_count": 241,
   "metadata": {},
   "outputs": [
    {
     "data": {
      "text/plain": [
       "'based on a true story, ‘the sky is pink’ touches an emotional chord from the word go. as aisha’s (zaira wasim) lively voiceover takes over from the start of the film, we are drawn into aditi (priyanka chopra) and niren’s (farhan akhtar) life instantly. a life that turns upside down almost right after aisha’s birth. it is heart-wrenching to watch aditi and niren stay determined, hopeful and keep their spirits intact as they go through a grueling time as a middle-class couple trying to raise funds for their child’s treatment in london. aditi at one point lives alone in london for months, for aisha’s treatment while niren goes back to delhi to work and be with their other child, ishaan. the one phone call, where ishaan tells his mom who is away, that he was scolded in class for coloring the sky pink and aditi assuring him that the sky can be any color he wants it to, will move you to tears. and there are many such tender moments in the film that linger on. however ‘the sky is pink’ not your typical tear jerking ride. the narrative and dialogues in film do a good balancing act of keeping some tough emotional scenes light-hearted, with a quirky touch. aditi and niren’s love story add some genuine fun moments and so does their overall chemistry as a couple, which is ultimately the soul of the film. and the sensitively dealt with moments add their heft to the emotional ride that the family goes through together. but as different aspects of aisha, aditi and niren’s lives find their way into the narrative, the pace slackens, making it a lengthy watch. in fact, one wishes the screenplay was more focused and some portions given more breathing time and delved into deeper. however, the emotional arc and the stellar performances will keep you invested. priyanka chopra is remarkable as aditi, a mom determined to the point of being obsessed with making her child live life to the fullest. her grief and pain is palpable in every scene as her character graph spans across two decades. farhan akhtar as niren, also pulls off a commendable performance as the supportive husband and the father whose emotions are not always on display, but is chipping away nonetheless. there is an amazing restraint in his act. zaira wasim breathes life into every moment she is on screen, with her vibrant energy adding the much needed poignant touch to her character. ‘the sky is pink’ is definitely a stirring watch as your heart goes out to the chaudhary family and their zest for making every moment count, despite the trying times they go through. this one scores high on the emotional quotient.'"
      ]
     },
     "execution_count": 241,
     "metadata": {},
     "output_type": "execute_result"
    }
   ],
   "source": [
    "review_1=str(review)\n",
    "#text = re.sub(r'\\d+','',title)# remove numbers\n",
    "review_1 = re.sub('<.*?>', '', review)   # remove HTML tags\n",
    "     #text = re.sub(r'[^\\w\\s]', '', text) # remove punc.\n",
    "     #text = text.lower() # lower case, .upper() for upper\n",
    "review_1=review_1.lower()\n",
    "review_1"
   ]
  },
  {
   "cell_type": "code",
   "execution_count": 240,
   "metadata": {},
   "outputs": [
    {
     "data": {
      "text/plain": [
       "['Movie_Title', 'Critic_rating', 'Story', 'Reviews']"
      ]
     },
     "execution_count": 240,
     "metadata": {},
     "output_type": "execute_result"
    }
   ],
   "source": [
    "columns=['Movie_Title', 'Critic_rating', 'Story', 'Reviews']\n",
    "columns"
   ]
  },
  {
   "cell_type": "code",
   "execution_count": 244,
   "metadata": {},
   "outputs": [
    {
     "data": {
      "text/html": [
       "<div>\n",
       "<style scoped>\n",
       "    .dataframe tbody tr th:only-of-type {\n",
       "        vertical-align: middle;\n",
       "    }\n",
       "\n",
       "    .dataframe tbody tr th {\n",
       "        vertical-align: top;\n",
       "    }\n",
       "\n",
       "    .dataframe thead th {\n",
       "        text-align: right;\n",
       "    }\n",
       "</style>\n",
       "<table border=\"1\" class=\"dataframe\">\n",
       "  <thead>\n",
       "    <tr style=\"text-align: right;\">\n",
       "      <th></th>\n",
       "      <th>Movie_Title</th>\n",
       "      <th>Critic_rating</th>\n",
       "      <th>Story</th>\n",
       "      <th>Reviews</th>\n",
       "    </tr>\n",
       "  </thead>\n",
       "  <tbody>\n",
       "    <tr>\n",
       "      <th>0</th>\n",
       "      <td>the sky is pink movie</td>\n",
       "      <td>[2.0, 3.5, 3.0, 3.0, 4.5, 3.0, 3.5, 3.0, 3.0, ...</td>\n",
       "      <td>soon after she is born, aisha is diagnosed wit...</td>\n",
       "      <td>based on a true story, ‘the sky is pink’ touch...</td>\n",
       "    </tr>\n",
       "  </tbody>\n",
       "</table>\n",
       "</div>"
      ],
      "text/plain": [
       "              Movie_Title                                      Critic_rating  \\\n",
       "0  the sky is pink movie   [2.0, 3.5, 3.0, 3.0, 4.5, 3.0, 3.5, 3.0, 3.0, ...   \n",
       "\n",
       "                                               Story  \\\n",
       "0  soon after she is born, aisha is diagnosed wit...   \n",
       "\n",
       "                                             Reviews  \n",
       "0  based on a true story, ‘the sky is pink’ touch...  "
      ]
     },
     "execution_count": 244,
     "metadata": {},
     "output_type": "execute_result"
    }
   ],
   "source": [
    "import pandas as pd\n",
    "# create a dictionary\n",
    "ex_dict = {'Movie_Title': [title_1],'Critic_rating': [critic_count_1],'Story':[story_1],'Reviews':[review_1]}\n",
    "\n",
    "df = pd.DataFrame(ex_dict, columns=columns)\n",
    "df.head()"
   ]
  },
  {
   "cell_type": "code",
   "execution_count": 245,
   "metadata": {},
   "outputs": [],
   "source": [
    "import csv\n",
    "\n",
    "with open('df.csv', mode='w') as df:\n",
    "    df = csv.writer(df, delimiter=',', quotechar='\"', quoting=csv.QUOTE_MINIMAL)\n"
   ]
  },
  {
   "cell_type": "code",
   "execution_count": 246,
   "metadata": {},
   "outputs": [
    {
     "ename": "AttributeError",
     "evalue": "'_csv.writer' object has no attribute 'head'",
     "output_type": "error",
     "traceback": [
      "\u001b[1;31m---------------------------------------------------------------------------\u001b[0m",
      "\u001b[1;31mAttributeError\u001b[0m                            Traceback (most recent call last)",
      "\u001b[1;32m<ipython-input-246-c42a15b2c7cf>\u001b[0m in \u001b[0;36m<module>\u001b[1;34m\u001b[0m\n\u001b[1;32m----> 1\u001b[1;33m \u001b[0mdf\u001b[0m\u001b[1;33m.\u001b[0m\u001b[0mhead\u001b[0m\u001b[1;33m(\u001b[0m\u001b[1;33m)\u001b[0m\u001b[1;33m\u001b[0m\u001b[1;33m\u001b[0m\u001b[0m\n\u001b[0m",
      "\u001b[1;31mAttributeError\u001b[0m: '_csv.writer' object has no attribute 'head'"
     ]
    }
   ],
   "source": []
  },
  {
   "cell_type": "code",
   "execution_count": null,
   "metadata": {},
   "outputs": [],
   "source": []
  },
  {
   "cell_type": "code",
   "execution_count": null,
   "metadata": {},
   "outputs": [],
   "source": []
  }
 ],
 "metadata": {
  "kernelspec": {
   "display_name": "Python 3",
   "language": "python",
   "name": "python3"
  },
  "language_info": {
   "codemirror_mode": {
    "name": "ipython",
    "version": 3
   },
   "file_extension": ".py",
   "mimetype": "text/x-python",
   "name": "python",
   "nbconvert_exporter": "python",
   "pygments_lexer": "ipython3",
   "version": "3.7.3"
  }
 },
 "nbformat": 4,
 "nbformat_minor": 2
}
